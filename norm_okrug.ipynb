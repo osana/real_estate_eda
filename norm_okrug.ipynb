{
 "cells": [
  {
   "cell_type": "code",
   "execution_count": 9,
   "metadata": {},
   "outputs": [],
   "source": [
    "import category_encoders as ce\n",
    "import pandas as pd"
   ]
  },
  {
   "cell_type": "code",
   "execution_count": 2,
   "metadata": {},
   "outputs": [
    {
     "ename": "NameError",
     "evalue": "name 'rent' is not defined",
     "output_type": "error",
     "traceback": [
      "\u001b[0;31m---------------------------------------------------------------------------\u001b[0m",
      "\u001b[0;31mNameError\u001b[0m                                 Traceback (most recent call last)",
      "Cell \u001b[0;32mIn[2], line 2\u001b[0m\n\u001b[1;32m      1\u001b[0m tenc \u001b[39m=\u001b[39m ce\u001b[39m.\u001b[39mTargetEncoder()\n\u001b[0;32m----> 2\u001b[0m rent_okrug \u001b[39m=\u001b[39m tenc\u001b[39m.\u001b[39mfit_transform(rent[\u001b[39m'\u001b[39m\u001b[39mОкруг\u001b[39m\u001b[39m'\u001b[39m], rent[\u001b[39m'\u001b[39m\u001b[39msquare_total\u001b[39m\u001b[39m'\u001b[39m])\n\u001b[1;32m      3\u001b[0m rent_okrug_new \u001b[39m=\u001b[39m rent_okrug\u001b[39m.\u001b[39mjoin(rent\u001b[39m.\u001b[39mdrop(\u001b[39m'\u001b[39m\u001b[39mОкруг\u001b[39m\u001b[39m'\u001b[39m, axis\u001b[39m=\u001b[39m\u001b[39m1\u001b[39m))\n\u001b[1;32m      4\u001b[0m rent_okrug_new\n",
      "\u001b[0;31mNameError\u001b[0m: name 'rent' is not defined"
     ]
    }
   ],
   "source": [
    "tenc = ce.TargetEncoder()\n",
    "rent_okrug = tenc.fit_transform(rent['Округ'], rent['square_total'])\n",
    "rent_okrug_new = rent_okrug.join(rent.drop('Округ', axis=1))\n",
    "rent_okrug_new"
   ]
  },
  {
   "cell_type": "code",
   "execution_count": 4,
   "metadata": {},
   "outputs": [
    {
     "ename": "NameError",
     "evalue": "name 'rent' is not defined",
     "output_type": "error",
     "traceback": [
      "\u001b[0;31m---------------------------------------------------------------------------\u001b[0m",
      "\u001b[0;31mNameError\u001b[0m                                 Traceback (most recent call last)",
      "Cell \u001b[0;32mIn[4], line 2\u001b[0m\n\u001b[1;32m      1\u001b[0m tenc1 \u001b[39m=\u001b[39m ce\u001b[39m.\u001b[39mTargetEncoder()\n\u001b[0;32m----> 2\u001b[0m rent_okrug1 \u001b[39m=\u001b[39m tenc1\u001b[39m.\u001b[39mfit_transform(rent[\u001b[39m'\u001b[39m\u001b[39mОкруг\u001b[39m\u001b[39m'\u001b[39m], rent[\u001b[39m'\u001b[39m\u001b[39mprice_rub_month\u001b[39m\u001b[39m'\u001b[39m])\n\u001b[1;32m      3\u001b[0m rent_okrug_new1 \u001b[39m=\u001b[39m rent_okrug1\u001b[39m.\u001b[39mjoin(rent\u001b[39m.\u001b[39mdrop(\u001b[39m'\u001b[39m\u001b[39mОкруг\u001b[39m\u001b[39m'\u001b[39m, axis\u001b[39m=\u001b[39m\u001b[39m1\u001b[39m))\n\u001b[1;32m      4\u001b[0m rent_okrug_new1\n",
      "\u001b[0;31mNameError\u001b[0m: name 'rent' is not defined"
     ]
    }
   ],
   "source": [
    "tenc1 = ce.TargetEncoder()\n",
    "rent_okrug1 = tenc1.fit_transform(rent['Округ'], rent['price_rub_month'])\n",
    "rent_okrug_new1 = rent_okrug1.join(rent.drop('Округ', axis=1))\n",
    "rent_okrug_new1"
   ]
  },
  {
   "cell_type": "code",
   "execution_count": 5,
   "metadata": {},
   "outputs": [
    {
     "ename": "NameError",
     "evalue": "name 'rent_okrug_new1' is not defined",
     "output_type": "error",
     "traceback": [
      "\u001b[0;31m---------------------------------------------------------------------------\u001b[0m",
      "\u001b[0;31mNameError\u001b[0m                                 Traceback (most recent call last)",
      "Cell \u001b[0;32mIn[5], line 1\u001b[0m\n\u001b[0;32m----> 1\u001b[0m rent_okrug_new1_grouped \u001b[39m=\u001b[39m rent_okrug_new1\u001b[39m.\u001b[39mgroupby(\u001b[39m'\u001b[39m\u001b[39mОкруг\u001b[39m\u001b[39m'\u001b[39m, as_index\u001b[39m=\u001b[39m\u001b[39mFalse\u001b[39;00m)\u001b[39m.\u001b[39magg({\u001b[39m'\u001b[39m\u001b[39mID  объявления\u001b[39m\u001b[39m'\u001b[39m: \u001b[39m'\u001b[39m\u001b[39mcount\u001b[39m\u001b[39m'\u001b[39m})\u001b[39m.\u001b[39msort_values(\u001b[39m'\u001b[39m\u001b[39mID  объявления\u001b[39m\u001b[39m'\u001b[39m, ascending \u001b[39m=\u001b[39m \u001b[39mFalse\u001b[39;00m)\n\u001b[1;32m      2\u001b[0m rent_okrug_new1_grouped[\u001b[39m'\u001b[39m\u001b[39mОкруг\u001b[39m\u001b[39m'\u001b[39m] \u001b[39m=\u001b[39m rent_okrug_new1_grouped[\u001b[39m'\u001b[39m\u001b[39mОкруг\u001b[39m\u001b[39m'\u001b[39m]\u001b[39m/\u001b[39mrent_okrug_new1_grouped[\u001b[39m'\u001b[39m\u001b[39mОкруг\u001b[39m\u001b[39m'\u001b[39m]\u001b[39m.\u001b[39mabs()\u001b[39m.\u001b[39mmax()\n\u001b[1;32m      3\u001b[0m rent_okrug_new1_grouped \u001b[39m=\u001b[39m rent_okrug_new1_grouped\u001b[39m.\u001b[39mrename(columns\u001b[39m=\u001b[39m{\u001b[39m'\u001b[39m\u001b[39mОкруг\u001b[39m\u001b[39m'\u001b[39m: \u001b[39m'\u001b[39m\u001b[39mdictrict_by_price\u001b[39m\u001b[39m'\u001b[39m})\n",
      "\u001b[0;31mNameError\u001b[0m: name 'rent_okrug_new1' is not defined"
     ]
    }
   ],
   "source": [
    "rent_okrug_new1_grouped = rent_okrug_new1.groupby('Округ', as_index=False).agg({'ID  объявления': 'count'}).sort_values('ID  объявления', ascending = False)\n",
    "rent_okrug_new1_grouped['Округ'] = rent_okrug_new1_grouped['Округ']/rent_okrug_new1_grouped['Округ'].abs().max()\n",
    "rent_okrug_new1_grouped = rent_okrug_new1_grouped.rename(columns={'Округ': 'dictrict_by_price'})\n",
    "rent_okrug_new1_grouped"
   ]
  },
  {
   "cell_type": "code",
   "execution_count": 6,
   "metadata": {},
   "outputs": [
    {
     "ename": "NameError",
     "evalue": "name 'rent_okrug_new' is not defined",
     "output_type": "error",
     "traceback": [
      "\u001b[0;31m---------------------------------------------------------------------------\u001b[0m",
      "\u001b[0;31mNameError\u001b[0m                                 Traceback (most recent call last)",
      "Cell \u001b[0;32mIn[6], line 1\u001b[0m\n\u001b[0;32m----> 1\u001b[0m rent_okrug_new_grouped \u001b[39m=\u001b[39m rent_okrug_new\u001b[39m.\u001b[39mgroupby(\u001b[39m'\u001b[39m\u001b[39mОкруг\u001b[39m\u001b[39m'\u001b[39m, as_index\u001b[39m=\u001b[39m\u001b[39mFalse\u001b[39;00m)\u001b[39m.\u001b[39magg({\u001b[39m'\u001b[39m\u001b[39mID  объявления\u001b[39m\u001b[39m'\u001b[39m: \u001b[39m'\u001b[39m\u001b[39mcount\u001b[39m\u001b[39m'\u001b[39m})\u001b[39m.\u001b[39msort_values(\u001b[39m'\u001b[39m\u001b[39mID  объявления\u001b[39m\u001b[39m'\u001b[39m, ascending \u001b[39m=\u001b[39m \u001b[39mFalse\u001b[39;00m)\n\u001b[1;32m      2\u001b[0m rent_okrug_new_grouped[\u001b[39m'\u001b[39m\u001b[39mОкруг\u001b[39m\u001b[39m'\u001b[39m] \u001b[39m=\u001b[39m rent_okrug_new_grouped[\u001b[39m'\u001b[39m\u001b[39mОкруг\u001b[39m\u001b[39m'\u001b[39m]\u001b[39m/\u001b[39mrent_okrug_new_grouped[\u001b[39m'\u001b[39m\u001b[39mОкруг\u001b[39m\u001b[39m'\u001b[39m]\u001b[39m.\u001b[39mabs()\u001b[39m.\u001b[39mmax()\n\u001b[1;32m      3\u001b[0m rent_okrug_new_grouped \u001b[39m=\u001b[39m rent_okrug_new_grouped\u001b[39m.\u001b[39mrename(columns\u001b[39m=\u001b[39m{\u001b[39m'\u001b[39m\u001b[39mОкруг\u001b[39m\u001b[39m'\u001b[39m: \u001b[39m'\u001b[39m\u001b[39mdictrict_by_square\u001b[39m\u001b[39m'\u001b[39m})\n",
      "\u001b[0;31mNameError\u001b[0m: name 'rent_okrug_new' is not defined"
     ]
    }
   ],
   "source": [
    "rent_okrug_new_grouped = rent_okrug_new.groupby('Округ', as_index=False).agg({'ID  объявления': 'count'}).sort_values('ID  объявления', ascending = False)\n",
    "rent_okrug_new_grouped['Округ'] = rent_okrug_new_grouped['Округ']/rent_okrug_new_grouped['Округ'].abs().max()\n",
    "rent_okrug_new_grouped = rent_okrug_new_grouped.rename(columns={'Округ': 'dictrict_by_square'})\n",
    "rent_okrug_new_grouped"
   ]
  },
  {
   "cell_type": "code",
   "execution_count": 7,
   "metadata": {},
   "outputs": [
    {
     "ename": "NameError",
     "evalue": "name 'rent' is not defined",
     "output_type": "error",
     "traceback": [
      "\u001b[0;31m---------------------------------------------------------------------------\u001b[0m",
      "\u001b[0;31mNameError\u001b[0m                                 Traceback (most recent call last)",
      "Cell \u001b[0;32mIn[7], line 1\u001b[0m\n\u001b[0;32m----> 1\u001b[0m okrug_name\u001b[39m=\u001b[39m rent\u001b[39m.\u001b[39mgroupby(\u001b[39m'\u001b[39m\u001b[39mОкруг\u001b[39m\u001b[39m'\u001b[39m, as_index\u001b[39m=\u001b[39m\u001b[39mFalse\u001b[39;00m)\u001b[39m.\u001b[39magg({\u001b[39m'\u001b[39m\u001b[39mID  объявления\u001b[39m\u001b[39m'\u001b[39m: \u001b[39m'\u001b[39m\u001b[39mcount\u001b[39m\u001b[39m'\u001b[39m})\u001b[39m.\u001b[39msort_values(\u001b[39m'\u001b[39m\u001b[39mID  объявления\u001b[39m\u001b[39m'\u001b[39m, ascending \u001b[39m=\u001b[39m \u001b[39mFalse\u001b[39;00m)\n\u001b[1;32m      2\u001b[0m okrug_name\n",
      "\u001b[0;31mNameError\u001b[0m: name 'rent' is not defined"
     ]
    }
   ],
   "source": [
    "okrug_name= rent.groupby('Округ', as_index=False).agg({'ID  объявления': 'count'}).sort_values('ID  объявления', ascending = False)\n",
    "okrug_name"
   ]
  },
  {
   "cell_type": "code",
   "execution_count": 8,
   "metadata": {},
   "outputs": [
    {
     "ename": "NameError",
     "evalue": "name 'pd' is not defined",
     "output_type": "error",
     "traceback": [
      "\u001b[0;31m---------------------------------------------------------------------------\u001b[0m",
      "\u001b[0;31mNameError\u001b[0m                                 Traceback (most recent call last)",
      "Cell \u001b[0;32mIn[8], line 1\u001b[0m\n\u001b[0;32m----> 1\u001b[0m okrug_norm \u001b[39m=\u001b[39m pd\u001b[39m.\u001b[39mmerge(okrug_name, rent_okrug_new1_grouped, on\u001b[39m=\u001b[39m\u001b[39m'\u001b[39m\u001b[39mID  объявления\u001b[39m\u001b[39m'\u001b[39m, how\u001b[39m=\u001b[39m\u001b[39m'\u001b[39m\u001b[39mleft\u001b[39m\u001b[39m'\u001b[39m)\n\u001b[1;32m      2\u001b[0m okrug_norm \u001b[39m=\u001b[39m pd\u001b[39m.\u001b[39mmerge(okrug_norm, rent_okrug_new_grouped, on\u001b[39m=\u001b[39m\u001b[39m'\u001b[39m\u001b[39mID  объявления\u001b[39m\u001b[39m'\u001b[39m, how\u001b[39m=\u001b[39m\u001b[39m'\u001b[39m\u001b[39mleft\u001b[39m\u001b[39m'\u001b[39m)\n\u001b[1;32m      3\u001b[0m okrug_norm \u001b[39m=\u001b[39m okrug_norm\u001b[39m.\u001b[39mrename(columns\u001b[39m=\u001b[39m{\u001b[39m'\u001b[39m\u001b[39mОкруг\u001b[39m\u001b[39m'\u001b[39m: \u001b[39m'\u001b[39m\u001b[39mdisctrict\u001b[39m\u001b[39m'\u001b[39m, \u001b[39m'\u001b[39m\u001b[39mID  объявления\u001b[39m\u001b[39m'\u001b[39m: \u001b[39m'\u001b[39m\u001b[39mcount\u001b[39m\u001b[39m'\u001b[39m})\n",
      "\u001b[0;31mNameError\u001b[0m: name 'pd' is not defined"
     ]
    }
   ],
   "source": [
    "okrug_norm = pd.merge(okrug_name, rent_okrug_new1_grouped, on='ID  объявления', how='left')\n",
    "okrug_norm = pd.merge(okrug_norm, rent_okrug_new_grouped, on='ID  объявления', how='left')\n",
    "okrug_norm = okrug_norm.rename(columns={'Округ': 'disctrict', 'ID  объявления': 'count'})\n",
    "#okrug_norm = okrug_norm.drop('dictrict_by_price_x', axis=1)\n",
    "okrug_norm"
   ]
  },
  {
   "cell_type": "code",
   "execution_count": null,
   "metadata": {},
   "outputs": [],
   "source": []
  }
 ],
 "metadata": {
  "kernelspec": {
   "display_name": "base",
   "language": "python",
   "name": "python3"
  },
  "language_info": {
   "codemirror_mode": {
    "name": "ipython",
    "version": 3
   },
   "file_extension": ".py",
   "mimetype": "text/x-python",
   "name": "python",
   "nbconvert_exporter": "python",
   "pygments_lexer": "ipython3",
   "version": "3.10.10"
  },
  "orig_nbformat": 4
 },
 "nbformat": 4,
 "nbformat_minor": 2
}
