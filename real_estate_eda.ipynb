{
 "cells": [
  {
   "cell_type": "code",
   "execution_count": 233,
   "id": "ede054ad-3ecf-4f28-b227-73f9b03d4f5e",
   "metadata": {
    "tags": []
   },
   "outputs": [],
   "source": [
    "import re\n",
    "import pandas as pd\n",
    "import numpy as np\n",
    "import matplotlib as mpl\n",
    "import matplotlib.pyplot as plt\n",
    "import seaborn as sns\n",
    "import requests"
   ]
  },
  {
   "cell_type": "code",
   "execution_count": 234,
   "id": "75cfc392",
   "metadata": {
    "tags": []
   },
   "outputs": [
    {
     "data": {
      "text/plain": [
       "Index(['Unnamed: 0', 'ID  объявления', 'Количество комнат', 'Тип', 'Метро',\n",
       "       'Адрес', 'Площадь, м2', 'Дом', 'Парковка', 'Цена', 'Телефоны',\n",
       "       'Описание', 'Ремонт', 'Площадь комнат, м2', 'Балкон', 'Окна', 'Санузел',\n",
       "       'Можно с детьми/животными', 'Дополнительно', 'Название ЖК',\n",
       "       'Серия дома', 'Высота потолков, м', 'Лифт', 'Мусоропровод',\n",
       "       'Ссылка на объявление'],\n",
       "      dtype='object')"
      ]
     },
     "execution_count": 234,
     "metadata": {},
     "output_type": "execute_result"
    }
   ],
   "source": [
    "\n",
    "import matplotlib.pyplot as plt\n",
    "import seaborn as sns\n",
    "\n",
    "path = \"./datasets/_data.csv\"\n",
    "rent = pd.read_csv(path)\n",
    "rent.columns"
   ]
  },
  {
   "cell_type": "code",
   "execution_count": 235,
   "id": "c9295584",
   "metadata": {
    "tags": []
   },
   "outputs": [],
   "source": [
    "# 'Unnamed: 0' – drop that column\n",
    "rent = rent.drop(labels ='Unnamed: 0', axis= 1)"
   ]
  },
  {
   "cell_type": "code",
   "execution_count": 236,
   "id": "1d028716-99e0-42df-b99d-149b87b66ed7",
   "metadata": {},
   "outputs": [],
   "source": [
    "# 'Ссылка на объявление'\n",
    "rent.drop(['Ссылка на объявление'], axis=1, inplace=True)"
   ]
  },
  {
   "cell_type": "code",
   "execution_count": 237,
   "id": "3de17af6-46a0-484d-acd9-df896d936f94",
   "metadata": {},
   "outputs": [],
   "source": [
    "# 'Тип'\n",
    "rent.drop(['Тип'], axis=1, inplace=True)"
   ]
  },
  {
   "cell_type": "code",
   "execution_count": 238,
   "id": "c90aea99-909e-4ee9-a92b-c4cf5819e4e8",
   "metadata": {
    "tags": []
   },
   "outputs": [],
   "source": [
    "# 'Телефоны'\n",
    "rent.drop(['Телефоны'], axis=1, inplace=True)"
   ]
  },
  {
   "cell_type": "code",
   "execution_count": 239,
   "id": "70fca4fa-cc14-457d-bd99-8d05551cee25",
   "metadata": {
    "tags": []
   },
   "outputs": [
    {
     "data": {
      "text/plain": [
       "Index(['ID  объявления', 'Количество комнат', 'Метро', 'Адрес', 'Площадь, м2',\n",
       "       'Дом', 'Парковка', 'Цена', 'Описание', 'Ремонт', 'Площадь комнат, м2',\n",
       "       'Балкон', 'Окна', 'Санузел', 'Можно с детьми/животными',\n",
       "       'Дополнительно', 'Название ЖК', 'Серия дома', 'Высота потолков, м',\n",
       "       'Лифт', 'Мусоропровод'],\n",
       "      dtype='object')"
      ]
     },
     "execution_count": 239,
     "metadata": {},
     "output_type": "execute_result"
    }
   ],
   "source": [
    "# After dropping several columns\n",
    "rent.columns"
   ]
  },
  {
   "cell_type": "code",
   "execution_count": 240,
   "id": "d17e891a-d96c-47c3-9327-e77a82ee8f17",
   "metadata": {
    "tags": []
   },
   "outputs": [
    {
     "data": {
      "text/plain": [
       "array(['Москва', 'Санкт-Петербург', 'Краснодарский край'], dtype=object)"
      ]
     },
     "execution_count": 240,
     "metadata": {},
     "output_type": "execute_result"
    }
   ],
   "source": [
    "# 'Адрес' – analys\n",
    "# Define 'City' column \n",
    "cities = rent['Адрес'].apply(lambda x: x.split(',')[0])\n",
    "cities.unique()"
   ]
  },
  {
   "cell_type": "code",
   "execution_count": 241,
   "id": "6a74a175-2e25-46d3-8f74-ca1303380740",
   "metadata": {
    "tags": []
   },
   "outputs": [
    {
     "data": {
      "text/plain": [
       "array(['Москва'], dtype=object)"
      ]
     },
     "execution_count": 241,
     "metadata": {},
     "output_type": "execute_result"
    }
   ],
   "source": [
    "# 'Адрес' – remove rows with 'Москва', 'Санкт-Петербург'\n",
    "rent.drop(rent[rent['Адрес'].str.startswith('Санкт-Петербург')].index, inplace = True)\n",
    "rent.drop(rent[rent['Адрес'].str.startswith('Краснодарский край')].index, inplace = True)\n",
    "cities = rent['Адрес'].apply(lambda x: x.split(',')[0])\n",
    "cities.unique()"
   ]
  },
  {
   "cell_type": "code",
   "execution_count": 242,
   "id": "4fbfe81a-e085-4d80-9e8c-326cab8e5012",
   "metadata": {
    "tags": []
   },
   "outputs": [
    {
     "name": "stdout",
     "output_type": "stream",
     "text": [
      "['Монолитный' 'Монолитно-кирпичный' nan 'Панельный' 'Сталинский'\n",
      " 'Кирпичный' 'старый фонд' 'Блочный' 'Деревянный' 'Щитовой']\n",
      "Number of Nan in building_type:  2971\n",
      "\n",
      "Flat floor vals: [-1, 1, 2, 3, 4, 5, 6, 7, 8, 9, 10, 11, 12, 13, 14, 15, 16, 17, 18, 19, 20, 21, 22, 23, 24, 25, 26, 27, 28, 29, 30, 31, 32, 33, 34, 35, 36, 37, 38, 39, 40, 41, 42, 43, 45, 46, 47, 48, 49, 50, 52, 53, 54, 55, 57, 58, 59, 61, 65, 70, 71, 75, 85]\n",
      "\n",
      "Total floors: [1, 2, 3, 4, 5, 6, 7, 8, 9, 10, 11, 12, 13, 14, 15, 16, 17, 18, 19, 20, 21, 22, 23, 24, 25, 26, 27, 28, 29, 30, 31, 32, 33, 34, 35, 36, 37, 38, 39, 40, 41, 42, 43, 44, 45, 46, 47, 48, 49, 50, 51, 52, 53, 54, 55, 57, 58, 59, 60, 62, 65, 68, 72, 73, 75, 76, 77, 78, 80, 85, 86, 95, 116]\n"
     ]
    }
   ],
   "source": [
    "# 'Дом'\n",
    "def get_floor(row) :\n",
    "    result = {}\n",
    "    l = row['Дом'].split(',')\n",
    "    if len(l) == 0 : return result\n",
    "    floors = l[0].split('/')\n",
    "    result['floor_flat'] = floors[0]\n",
    "    result['floors_total']= floors[1]\n",
    "    if len(l) > 1 :\n",
    "        result['building_type'] = l[1][1:] # remove first space\n",
    "    return result\n",
    "\n",
    "\n",
    "floor_info = rent.apply(get_floor, axis=1, result_type='expand')\n",
    "floor_info['floor_flat'] = floor_info['floor_flat'].astype('Int64')\n",
    "floor_info['floors_total'] = floor_info['floors_total'].astype('Int64')\n",
    "print(floor_info['building_type'].unique())\n",
    "print(\"Number of Nan in building_type: \", floor_info['building_type'].isna().sum())  # 2971 – Nan values\n",
    "print(\"\\nFlat floor vals:\", sorted(floor_info['floor_flat'].unique()))    #range -1 to 85\n",
    "print(\"\\nTotal floors:\", sorted(floor_info['floors_total'].unique()))  #range 1 to 116"
   ]
  },
  {
   "cell_type": "code",
   "execution_count": 243,
   "id": "01e0ed51-9412-4be1-8f2f-e8e32cfced6f",
   "metadata": {
    "tags": []
   },
   "outputs": [
    {
     "name": "stdout",
     "output_type": "stream",
     "text": [
      "Index(['Мебель в комнатах', 'Мебель на кухне', 'Ванна', 'Душевая кабина',\n",
      "       'Стиральная машина', 'Кондиционер', 'Посудомоечная машина', 'Телевизор',\n",
      "       'Холодильник', 'Интернет', 'Телефон'],\n",
      "      dtype='object')\n"
     ]
    },
    {
     "data": {
      "text/html": [
       "<div>\n",
       "<style scoped>\n",
       "    .dataframe tbody tr th:only-of-type {\n",
       "        vertical-align: middle;\n",
       "    }\n",
       "\n",
       "    .dataframe tbody tr th {\n",
       "        vertical-align: top;\n",
       "    }\n",
       "\n",
       "    .dataframe thead th {\n",
       "        text-align: right;\n",
       "    }\n",
       "</style>\n",
       "<table border=\"1\" class=\"dataframe\">\n",
       "  <thead>\n",
       "    <tr style=\"text-align: right;\">\n",
       "      <th></th>\n",
       "      <th>Мебель в комнатах</th>\n",
       "      <th>Мебель на кухне</th>\n",
       "      <th>Ванна</th>\n",
       "      <th>Душевая кабина</th>\n",
       "      <th>Стиральная машина</th>\n",
       "      <th>Кондиционер</th>\n",
       "      <th>Посудомоечная машина</th>\n",
       "      <th>Телевизор</th>\n",
       "      <th>Холодильник</th>\n",
       "      <th>Интернет</th>\n",
       "      <th>Телефон</th>\n",
       "    </tr>\n",
       "  </thead>\n",
       "  <tbody>\n",
       "    <tr>\n",
       "      <th>0</th>\n",
       "      <td>1</td>\n",
       "      <td>1</td>\n",
       "      <td>1</td>\n",
       "      <td>1</td>\n",
       "      <td>1</td>\n",
       "      <td>1</td>\n",
       "      <td>1</td>\n",
       "      <td>1</td>\n",
       "      <td>1</td>\n",
       "      <td>1</td>\n",
       "      <td>1</td>\n",
       "    </tr>\n",
       "    <tr>\n",
       "      <th>1</th>\n",
       "      <td>1</td>\n",
       "      <td>1</td>\n",
       "      <td>1</td>\n",
       "      <td>1</td>\n",
       "      <td>1</td>\n",
       "      <td>1</td>\n",
       "      <td>1</td>\n",
       "      <td>1</td>\n",
       "      <td>1</td>\n",
       "      <td>1</td>\n",
       "      <td>0</td>\n",
       "    </tr>\n",
       "    <tr>\n",
       "      <th>2</th>\n",
       "      <td>1</td>\n",
       "      <td>1</td>\n",
       "      <td>1</td>\n",
       "      <td>1</td>\n",
       "      <td>1</td>\n",
       "      <td>1</td>\n",
       "      <td>1</td>\n",
       "      <td>1</td>\n",
       "      <td>1</td>\n",
       "      <td>1</td>\n",
       "      <td>1</td>\n",
       "    </tr>\n",
       "    <tr>\n",
       "      <th>3</th>\n",
       "      <td>1</td>\n",
       "      <td>1</td>\n",
       "      <td>1</td>\n",
       "      <td>1</td>\n",
       "      <td>1</td>\n",
       "      <td>1</td>\n",
       "      <td>1</td>\n",
       "      <td>1</td>\n",
       "      <td>1</td>\n",
       "      <td>1</td>\n",
       "      <td>1</td>\n",
       "    </tr>\n",
       "    <tr>\n",
       "      <th>4</th>\n",
       "      <td>1</td>\n",
       "      <td>1</td>\n",
       "      <td>1</td>\n",
       "      <td>1</td>\n",
       "      <td>1</td>\n",
       "      <td>0</td>\n",
       "      <td>1</td>\n",
       "      <td>1</td>\n",
       "      <td>1</td>\n",
       "      <td>1</td>\n",
       "      <td>0</td>\n",
       "    </tr>\n",
       "    <tr>\n",
       "      <th>...</th>\n",
       "      <td>...</td>\n",
       "      <td>...</td>\n",
       "      <td>...</td>\n",
       "      <td>...</td>\n",
       "      <td>...</td>\n",
       "      <td>...</td>\n",
       "      <td>...</td>\n",
       "      <td>...</td>\n",
       "      <td>...</td>\n",
       "      <td>...</td>\n",
       "      <td>...</td>\n",
       "    </tr>\n",
       "    <tr>\n",
       "      <th>23363</th>\n",
       "      <td>1</td>\n",
       "      <td>1</td>\n",
       "      <td>1</td>\n",
       "      <td>0</td>\n",
       "      <td>1</td>\n",
       "      <td>1</td>\n",
       "      <td>0</td>\n",
       "      <td>0</td>\n",
       "      <td>1</td>\n",
       "      <td>1</td>\n",
       "      <td>0</td>\n",
       "    </tr>\n",
       "    <tr>\n",
       "      <th>23364</th>\n",
       "      <td>1</td>\n",
       "      <td>1</td>\n",
       "      <td>1</td>\n",
       "      <td>0</td>\n",
       "      <td>1</td>\n",
       "      <td>0</td>\n",
       "      <td>0</td>\n",
       "      <td>1</td>\n",
       "      <td>1</td>\n",
       "      <td>0</td>\n",
       "      <td>0</td>\n",
       "    </tr>\n",
       "    <tr>\n",
       "      <th>23365</th>\n",
       "      <td>0</td>\n",
       "      <td>1</td>\n",
       "      <td>0</td>\n",
       "      <td>1</td>\n",
       "      <td>1</td>\n",
       "      <td>1</td>\n",
       "      <td>0</td>\n",
       "      <td>0</td>\n",
       "      <td>1</td>\n",
       "      <td>1</td>\n",
       "      <td>0</td>\n",
       "    </tr>\n",
       "    <tr>\n",
       "      <th>23366</th>\n",
       "      <td>1</td>\n",
       "      <td>1</td>\n",
       "      <td>1</td>\n",
       "      <td>0</td>\n",
       "      <td>1</td>\n",
       "      <td>1</td>\n",
       "      <td>1</td>\n",
       "      <td>0</td>\n",
       "      <td>1</td>\n",
       "      <td>0</td>\n",
       "      <td>0</td>\n",
       "    </tr>\n",
       "    <tr>\n",
       "      <th>23367</th>\n",
       "      <td>1</td>\n",
       "      <td>1</td>\n",
       "      <td>1</td>\n",
       "      <td>0</td>\n",
       "      <td>1</td>\n",
       "      <td>1</td>\n",
       "      <td>1</td>\n",
       "      <td>1</td>\n",
       "      <td>1</td>\n",
       "      <td>1</td>\n",
       "      <td>0</td>\n",
       "    </tr>\n",
       "  </tbody>\n",
       "</table>\n",
       "<p>19737 rows × 11 columns</p>\n",
       "</div>"
      ],
      "text/plain": [
       "       Мебель в комнатах  Мебель на кухне  Ванна  Душевая кабина  \\\n",
       "0                      1                1      1               1   \n",
       "1                      1                1      1               1   \n",
       "2                      1                1      1               1   \n",
       "3                      1                1      1               1   \n",
       "4                      1                1      1               1   \n",
       "...                  ...              ...    ...             ...   \n",
       "23363                  1                1      1               0   \n",
       "23364                  1                1      1               0   \n",
       "23365                  0                1      0               1   \n",
       "23366                  1                1      1               0   \n",
       "23367                  1                1      1               0   \n",
       "\n",
       "       Стиральная машина  Кондиционер  Посудомоечная машина  Телевизор  \\\n",
       "0                      1            1                     1          1   \n",
       "1                      1            1                     1          1   \n",
       "2                      1            1                     1          1   \n",
       "3                      1            1                     1          1   \n",
       "4                      1            0                     1          1   \n",
       "...                  ...          ...                   ...        ...   \n",
       "23363                  1            1                     0          0   \n",
       "23364                  1            0                     0          1   \n",
       "23365                  1            1                     0          0   \n",
       "23366                  1            1                     1          0   \n",
       "23367                  1            1                     1          1   \n",
       "\n",
       "       Холодильник  Интернет  Телефон  \n",
       "0                1         1        1  \n",
       "1                1         1        0  \n",
       "2                1         1        1  \n",
       "3                1         1        1  \n",
       "4                1         1        0  \n",
       "...            ...       ...      ...  \n",
       "23363            1         1        0  \n",
       "23364            1         0        0  \n",
       "23365            1         1        0  \n",
       "23366            1         0        0  \n",
       "23367            1         1        0  \n",
       "\n",
       "[19737 rows x 11 columns]"
      ]
     },
     "execution_count": 243,
     "metadata": {},
     "output_type": "execute_result"
    }
   ],
   "source": [
    "# 'Дополнительно'\n",
    "\n",
    "def get_equp(row) :\n",
    "    result = {}\n",
    "    if type(row['Дополнительно']) != str : return result\n",
    "    l = row['Дополнительно'].split(',')\n",
    "    if len(l) == 0 : return result\n",
    "    for eq in l :\n",
    "        if eq[0] == ' ' : eq = eq[1:]\n",
    "        result[eq] = 1\n",
    "    return result\n",
    "\n",
    "\n",
    "additional = rent.apply(get_equp, axis=1, result_type='expand')\n",
    "for c in additional.columns :\n",
    "    additional[c] = additional[c].astype('Int64')\n",
    "additional = additional.fillna(0)\n",
    "print(additional.columns)\n",
    "additional"
   ]
  },
  {
   "cell_type": "code",
   "execution_count": 244,
   "id": "eed67726-0cbd-4eb1-bf39-783190a1726e",
   "metadata": {},
   "outputs": [],
   "source": [
    "####################"
   ]
  },
  {
   "cell_type": "code",
   "execution_count": 245,
   "id": "b7ce601d-ed04-4a78-93b9-b3b7448f7e2c",
   "metadata": {
    "tags": []
   },
   "outputs": [
    {
     "ename": "IndexError",
     "evalue": "index 25 is out of bounds for axis 0 with size 23",
     "output_type": "error",
     "traceback": [
      "\u001b[0;31m---------------------------------------------------------------------------\u001b[0m",
      "\u001b[0;31mIndexError\u001b[0m                                Traceback (most recent call last)",
      "Cell \u001b[0;32mIn[245], line 9\u001b[0m\n\u001b[1;32m      7\u001b[0m cou \u001b[38;5;241m=\u001b[39m \u001b[38;5;28mint\u001b[39m(cou)\n\u001b[1;32m      8\u001b[0m \u001b[38;5;28;01mif\u001b[39;00m new[\u001b[38;5;241m0\u001b[39m] \u001b[38;5;241m==\u001b[39m \u001b[38;5;124m'\u001b[39m\u001b[38;5;124mЛ\u001b[39m\u001b[38;5;124m'\u001b[39m:\n\u001b[0;32m----> 9\u001b[0m     rent\u001b[38;5;241m.\u001b[39miloc[cou,\u001b[38;5;241m26\u001b[39m] \u001b[38;5;241m=\u001b[39m \u001b[43mrent\u001b[49m\u001b[38;5;241;43m.\u001b[39;49m\u001b[43miloc\u001b[49m\u001b[43m[\u001b[49m\u001b[43mcou\u001b[49m\u001b[43m,\u001b[49m\u001b[38;5;241;43m25\u001b[39;49m\u001b[43m]\u001b[49m\n\u001b[1;32m     10\u001b[0m     rent\u001b[38;5;241m.\u001b[39miloc[cou,\u001b[38;5;241m25\u001b[39m] \u001b[38;5;241m=\u001b[39m \u001b[38;5;124m'\u001b[39m\u001b[38;5;124m'\u001b[39m\n\u001b[1;32m     11\u001b[0m cou \u001b[38;5;241m=\u001b[39m cou \u001b[38;5;241m+\u001b[39m \u001b[38;5;241m1\u001b[39m\n",
      "File \u001b[0;32m~/miniforge3/lib/python3.10/site-packages/pandas/core/indexing.py:1066\u001b[0m, in \u001b[0;36m_LocationIndexer.__getitem__\u001b[0;34m(self, key)\u001b[0m\n\u001b[1;32m   1064\u001b[0m     key \u001b[38;5;241m=\u001b[39m \u001b[38;5;28mtuple\u001b[39m(com\u001b[38;5;241m.\u001b[39mapply_if_callable(x, \u001b[38;5;28mself\u001b[39m\u001b[38;5;241m.\u001b[39mobj) \u001b[38;5;28;01mfor\u001b[39;00m x \u001b[38;5;129;01min\u001b[39;00m key)\n\u001b[1;32m   1065\u001b[0m     \u001b[38;5;28;01mif\u001b[39;00m \u001b[38;5;28mself\u001b[39m\u001b[38;5;241m.\u001b[39m_is_scalar_access(key):\n\u001b[0;32m-> 1066\u001b[0m         \u001b[38;5;28;01mreturn\u001b[39;00m \u001b[38;5;28;43mself\u001b[39;49m\u001b[38;5;241;43m.\u001b[39;49m\u001b[43mobj\u001b[49m\u001b[38;5;241;43m.\u001b[39;49m\u001b[43m_get_value\u001b[49m\u001b[43m(\u001b[49m\u001b[38;5;241;43m*\u001b[39;49m\u001b[43mkey\u001b[49m\u001b[43m,\u001b[49m\u001b[43m \u001b[49m\u001b[43mtakeable\u001b[49m\u001b[38;5;241;43m=\u001b[39;49m\u001b[38;5;28;43mself\u001b[39;49m\u001b[38;5;241;43m.\u001b[39;49m\u001b[43m_takeable\u001b[49m\u001b[43m)\u001b[49m\n\u001b[1;32m   1067\u001b[0m     \u001b[38;5;28;01mreturn\u001b[39;00m \u001b[38;5;28mself\u001b[39m\u001b[38;5;241m.\u001b[39m_getitem_tuple(key)\n\u001b[1;32m   1068\u001b[0m \u001b[38;5;28;01melse\u001b[39;00m:\n\u001b[1;32m   1069\u001b[0m     \u001b[38;5;66;03m# we by definition only have the 0th axis\u001b[39;00m\n",
      "File \u001b[0;32m~/miniforge3/lib/python3.10/site-packages/pandas/core/frame.py:3914\u001b[0m, in \u001b[0;36mDataFrame._get_value\u001b[0;34m(self, index, col, takeable)\u001b[0m\n\u001b[1;32m   3895\u001b[0m \u001b[38;5;250m\u001b[39m\u001b[38;5;124;03m\"\"\"\u001b[39;00m\n\u001b[1;32m   3896\u001b[0m \u001b[38;5;124;03mQuickly retrieve single value at passed column and index.\u001b[39;00m\n\u001b[1;32m   3897\u001b[0m \n\u001b[0;32m   (...)\u001b[0m\n\u001b[1;32m   3911\u001b[0m \u001b[38;5;124;03m`self.columns._index_as_unique`; Caller is responsible for checking.\u001b[39;00m\n\u001b[1;32m   3912\u001b[0m \u001b[38;5;124;03m\"\"\"\u001b[39;00m\n\u001b[1;32m   3913\u001b[0m \u001b[38;5;28;01mif\u001b[39;00m takeable:\n\u001b[0;32m-> 3914\u001b[0m     series \u001b[38;5;241m=\u001b[39m \u001b[38;5;28;43mself\u001b[39;49m\u001b[38;5;241;43m.\u001b[39;49m\u001b[43m_ixs\u001b[49m\u001b[43m(\u001b[49m\u001b[43mcol\u001b[49m\u001b[43m,\u001b[49m\u001b[43m \u001b[49m\u001b[43maxis\u001b[49m\u001b[38;5;241;43m=\u001b[39;49m\u001b[38;5;241;43m1\u001b[39;49m\u001b[43m)\u001b[49m\n\u001b[1;32m   3915\u001b[0m     \u001b[38;5;28;01mreturn\u001b[39;00m series\u001b[38;5;241m.\u001b[39m_values[index]\n\u001b[1;32m   3917\u001b[0m series \u001b[38;5;241m=\u001b[39m \u001b[38;5;28mself\u001b[39m\u001b[38;5;241m.\u001b[39m_get_item_cache(col)\n",
      "File \u001b[0;32m~/miniforge3/lib/python3.10/site-packages/pandas/core/frame.py:3728\u001b[0m, in \u001b[0;36mDataFrame._ixs\u001b[0;34m(self, i, axis)\u001b[0m\n\u001b[1;32m   3724\u001b[0m     \u001b[38;5;28;01mreturn\u001b[39;00m result\n\u001b[1;32m   3726\u001b[0m \u001b[38;5;66;03m# icol\u001b[39;00m\n\u001b[1;32m   3727\u001b[0m \u001b[38;5;28;01melse\u001b[39;00m:\n\u001b[0;32m-> 3728\u001b[0m     label \u001b[38;5;241m=\u001b[39m \u001b[38;5;28;43mself\u001b[39;49m\u001b[38;5;241;43m.\u001b[39;49m\u001b[43mcolumns\u001b[49m\u001b[43m[\u001b[49m\u001b[43mi\u001b[49m\u001b[43m]\u001b[49m\n\u001b[1;32m   3730\u001b[0m     col_mgr \u001b[38;5;241m=\u001b[39m \u001b[38;5;28mself\u001b[39m\u001b[38;5;241m.\u001b[39m_mgr\u001b[38;5;241m.\u001b[39miget(i)\n\u001b[1;32m   3731\u001b[0m     result \u001b[38;5;241m=\u001b[39m \u001b[38;5;28mself\u001b[39m\u001b[38;5;241m.\u001b[39m_box_col_values(col_mgr, i)\n",
      "File \u001b[0;32m~/miniforge3/lib/python3.10/site-packages/pandas/core/indexes/base.py:5320\u001b[0m, in \u001b[0;36mIndex.__getitem__\u001b[0;34m(self, key)\u001b[0m\n\u001b[1;32m   5317\u001b[0m \u001b[38;5;28;01mif\u001b[39;00m is_integer(key) \u001b[38;5;129;01mor\u001b[39;00m is_float(key):\n\u001b[1;32m   5318\u001b[0m     \u001b[38;5;66;03m# GH#44051 exclude bool, which would return a 2d ndarray\u001b[39;00m\n\u001b[1;32m   5319\u001b[0m     key \u001b[38;5;241m=\u001b[39m com\u001b[38;5;241m.\u001b[39mcast_scalar_indexer(key, warn_float\u001b[38;5;241m=\u001b[39m\u001b[38;5;28;01mTrue\u001b[39;00m)\n\u001b[0;32m-> 5320\u001b[0m     \u001b[38;5;28;01mreturn\u001b[39;00m \u001b[43mgetitem\u001b[49m\u001b[43m(\u001b[49m\u001b[43mkey\u001b[49m\u001b[43m)\u001b[49m\n\u001b[1;32m   5322\u001b[0m \u001b[38;5;28;01mif\u001b[39;00m \u001b[38;5;28misinstance\u001b[39m(key, \u001b[38;5;28mslice\u001b[39m):\n\u001b[1;32m   5323\u001b[0m     \u001b[38;5;66;03m# This case is separated from the conditional above to avoid\u001b[39;00m\n\u001b[1;32m   5324\u001b[0m     \u001b[38;5;66;03m# pessimization com.is_bool_indexer and ndim checks.\u001b[39;00m\n\u001b[1;32m   5325\u001b[0m     result \u001b[38;5;241m=\u001b[39m getitem(key)\n",
      "\u001b[0;31mIndexError\u001b[0m: index 25 is out of bounds for axis 0 with size 23"
     ]
    }
   ],
   "source": [
    "# 'Балкон'\n",
    "rent[['balcony', 'loggia']] = rent.Балкон.str.split(\",\", expand = True)\n",
    "\n",
    "cou = 0\n",
    "for i in rent['balcony']:\n",
    "    new = str(i)\n",
    "    cou = int(cou)\n",
    "    if new[0] == 'Л':\n",
    "        rent.iloc[cou,26] = rent.iloc[cou,25]\n",
    "        rent.iloc[cou,25] = ''\n",
    "    cou = cou + 1\n",
    "    \n",
    "rent = rent.assign(balcony = lambda x: x['balcony'].str.extract('(\\d+)'))\n",
    "rent = rent.assign(loggia = lambda x: x['loggia'].str.extract('(\\d+)'))\n",
    "rent['balcony'] = rent['balcony'].fillna(0)\n",
    "rent['loggia'] = rent['loggia'].fillna(0)"
   ]
  },
  {
   "cell_type": "code",
   "execution_count": null,
   "id": "08c0875d-d1a3-4c36-8c48-ee4658b76762",
   "metadata": {
    "tags": []
   },
   "outputs": [],
   "source": [
    "# 'Санузел'\n",
    "rent[['sf1', 'sf2']] = rent.Санузел.str.split(\",\", expand = True)\n",
    "\n",
    "cou = 0\n",
    "for i in rent['sf1']:\n",
    "    new = str(i)\n",
    "    cou = int(cou)\n",
    "    if new[0] == 'Р':\n",
    "        rent.iloc[cou,30] = rent.iloc[cou,29]\n",
    "        rent.iloc[cou,29] = ''\n",
    "    cou = cou + 1\n",
    "    \n",
    "rent = rent.assign(sf1 = lambda x: x['sf1'].str.extract('(\\d+)'))\n",
    "rent = rent.assign(sf2 = lambda x: x['sf2'].str.extract('(\\d+)'))\n",
    "rent['sf1'] = df['sf1'].fillna(0)\n",
    "rent['sf2'] = df['sf2'].fillna(0)\n",
    "rent = rent.astype({'sf1':'int'})\n",
    "rent = rent.astype({'sf2':'int'})\n",
    "rent['bathroom'] = rent['sf1'] + df['sf2'] \n",
    "rent.drop(['sf1', 'sf2'], axis=1)"
   ]
  },
  {
   "cell_type": "code",
   "execution_count": null,
   "id": "7e0fdf1d-44c8-48ce-8485-49d6a5c582b0",
   "metadata": {
    "tags": []
   },
   "outputs": [],
   "source": [
    "# 'Лифт'\n",
    "rent[['passenger_lift', 'service_lift']] = rent.Лифт.str.split(\",\", expand = True)\n",
    "\n",
    "cou = 0\n",
    "for i in rent['passenger_lift']:\n",
    "    new = str(i)\n",
    "    cou = int(cou)\n",
    "    if new[0] == 'Г':\n",
    "        rent.iloc[cou,28] = rent.iloc[cou,27]\n",
    "        rent.iloc[cou,28] = ''\n",
    "    cou = cou + 1\n",
    "    \n",
    "rent = rent.assign(passenger_lift = lambda x: x['passenger_lift'].str.extract('(\\d+)'))\n",
    "rent = rent.assign(service_lift = lambda x: x['service_lift'].str.extract('(\\d+)'))\n",
    "rent['passenger_lift'] = rent['passenger_lift'].fillna(0)\n",
    "rent['service_lift'] = rent['service_lift'].fillna(0)"
   ]
  },
  {
   "cell_type": "code",
   "execution_count": null,
   "id": "8f09d037-4f05-487a-bef9-b7e100c8495a",
   "metadata": {
    "tags": []
   },
   "outputs": [],
   "source": [
    "#######################"
   ]
  },
  {
   "cell_type": "code",
   "execution_count": null,
   "id": "bbc9f67b-7085-4506-a2cc-93dd8ba6cfb1",
   "metadata": {
    "tags": []
   },
   "outputs": [],
   "source": [
    "# 'Площадь, м2'\n",
    "rent['Площадь, м2'] = rent['Площадь, м2'].str.split(pat='/', n = 1, expand = True)[0].astype('float')\n",
    "rent.rename(columns = {'Площадь, м2':'square_total'}, inplace = True)\n",
    "rent[0:2]"
   ]
  },
  {
   "cell_type": "code",
   "execution_count": null,
   "id": "8408a543-e803-4c93-908d-a4e8b2559e1b",
   "metadata": {
    "tags": []
   },
   "outputs": [],
   "source": [
    "# 'Парковка'\n",
    "rent['Парковка'] = rent['Парковка'].fillna('нет парковки')\n",
    "rent.rename(columns = {'Парковка':'parking'}, inplace = True)\n",
    "rent[0:2]"
   ]
  },
  {
   "cell_type": "code",
   "execution_count": null,
   "id": "ad6f97f2-8024-4c94-946b-77a40ea8d768",
   "metadata": {
    "tags": []
   },
   "outputs": [],
   "source": [
    "# 'Ремонт'\n",
    "rent['Ремонт'] = rent['Ремонт'].fillna('Без ремонта')\n",
    "rent.rename(columns = {'Ремонт':'renovation'}, inplace = True)\n",
    "rent[0:2]"
   ]
  },
  {
   "cell_type": "code",
   "execution_count": null,
   "id": "96b2146a-5dbc-4ab5-bc44-2af86d64939b",
   "metadata": {
    "tags": []
   },
   "outputs": [],
   "source": [
    "# 'Окна'\n",
    "rent['Окна'] = rent['Окна'].fillna('Нет данных')\n",
    "rent.rename(columns = {'Окна':'windows'}, inplace = True)\n",
    "rent[0:2]"
   ]
  },
  {
   "cell_type": "code",
   "execution_count": 246,
   "id": "2e2d3b28-28d1-478d-9657-6084d5311574",
   "metadata": {
    "tags": []
   },
   "outputs": [
    {
     "data": {
      "text/html": [
       "<div>\n",
       "<style scoped>\n",
       "    .dataframe tbody tr th:only-of-type {\n",
       "        vertical-align: middle;\n",
       "    }\n",
       "\n",
       "    .dataframe tbody tr th {\n",
       "        vertical-align: top;\n",
       "    }\n",
       "\n",
       "    .dataframe thead th {\n",
       "        text-align: right;\n",
       "    }\n",
       "</style>\n",
       "<table border=\"1\" class=\"dataframe\">\n",
       "  <thead>\n",
       "    <tr style=\"text-align: right;\">\n",
       "      <th></th>\n",
       "      <th>ID  объявления</th>\n",
       "      <th>Количество комнат</th>\n",
       "      <th>Метро</th>\n",
       "      <th>Адрес</th>\n",
       "      <th>Площадь, м2</th>\n",
       "      <th>Дом</th>\n",
       "      <th>Парковка</th>\n",
       "      <th>Цена</th>\n",
       "      <th>Описание</th>\n",
       "      <th>Ремонт</th>\n",
       "      <th>...</th>\n",
       "      <th>Дополнительно</th>\n",
       "      <th>Название ЖК</th>\n",
       "      <th>Серия дома</th>\n",
       "      <th>Высота потолков, м</th>\n",
       "      <th>Лифт</th>\n",
       "      <th>Мусоропровод</th>\n",
       "      <th>balcony</th>\n",
       "      <th>loggia</th>\n",
       "      <th>kids_allowed</th>\n",
       "      <th>pets_allowed</th>\n",
       "    </tr>\n",
       "  </thead>\n",
       "  <tbody>\n",
       "    <tr>\n",
       "      <th>0</th>\n",
       "      <td>271271157</td>\n",
       "      <td>4</td>\n",
       "      <td>м. Смоленская (9 мин пешком)</td>\n",
       "      <td>Москва, улица Новый Арбат, 27</td>\n",
       "      <td>200.0/20.0</td>\n",
       "      <td>5/16, Монолитный</td>\n",
       "      <td>подземная</td>\n",
       "      <td>500000.0 руб./ За месяц, Залог - 500000 руб., ...</td>\n",
       "      <td>Без комиссии для нанимателя! Бонус коллегам 12...</td>\n",
       "      <td>Дизайнерский</td>\n",
       "      <td>...</td>\n",
       "      <td>Мебель в комнатах, Мебель на кухне, Ванна, Душ...</td>\n",
       "      <td>Новый Арбат, 2010</td>\n",
       "      <td>NaN</td>\n",
       "      <td>3.0</td>\n",
       "      <td>Пасс (4), Груз (1)</td>\n",
       "      <td>Да</td>\n",
       "      <td>NaN</td>\n",
       "      <td>NaN</td>\n",
       "      <td>1</td>\n",
       "      <td>1</td>\n",
       "    </tr>\n",
       "    <tr>\n",
       "      <th>1</th>\n",
       "      <td>271634126</td>\n",
       "      <td>4</td>\n",
       "      <td>м. Смоленская (8 мин пешком)</td>\n",
       "      <td>Москва, улица Новый Арбат, 27</td>\n",
       "      <td>198.0/95.0/18.0</td>\n",
       "      <td>5/16, Монолитно-кирпичный</td>\n",
       "      <td>подземная</td>\n",
       "      <td>500000.0 руб./ За месяц, Залог - 500000 руб., ...</td>\n",
       "      <td>Лот 93107. Елена Анисимова.\\n\\nБонус агенту 50...</td>\n",
       "      <td>Дизайнерский</td>\n",
       "      <td>...</td>\n",
       "      <td>Мебель в комнатах, Мебель на кухне, Ванна, Душ...</td>\n",
       "      <td>Новый Арбат</td>\n",
       "      <td>NaN</td>\n",
       "      <td>3.5</td>\n",
       "      <td>Пасс (1), Груз (1)</td>\n",
       "      <td>Нет</td>\n",
       "      <td>NaN</td>\n",
       "      <td>NaN</td>\n",
       "      <td>1</td>\n",
       "      <td>0</td>\n",
       "    </tr>\n",
       "  </tbody>\n",
       "</table>\n",
       "<p>2 rows × 24 columns</p>\n",
       "</div>"
      ],
      "text/plain": [
       "   ID  объявления Количество комнат                         Метро  \\\n",
       "0       271271157                 4  м. Смоленская (9 мин пешком)   \n",
       "1       271634126                 4  м. Смоленская (8 мин пешком)   \n",
       "\n",
       "                           Адрес      Площадь, м2                        Дом  \\\n",
       "0  Москва, улица Новый Арбат, 27       200.0/20.0           5/16, Монолитный   \n",
       "1  Москва, улица Новый Арбат, 27  198.0/95.0/18.0  5/16, Монолитно-кирпичный   \n",
       "\n",
       "    Парковка                                               Цена  \\\n",
       "0  подземная  500000.0 руб./ За месяц, Залог - 500000 руб., ...   \n",
       "1  подземная  500000.0 руб./ За месяц, Залог - 500000 руб., ...   \n",
       "\n",
       "                                            Описание        Ремонт  ...  \\\n",
       "0  Без комиссии для нанимателя! Бонус коллегам 12...  Дизайнерский  ...   \n",
       "1  Лот 93107. Елена Анисимова.\\n\\nБонус агенту 50...  Дизайнерский  ...   \n",
       "\n",
       "                                       Дополнительно        Название ЖК  \\\n",
       "0  Мебель в комнатах, Мебель на кухне, Ванна, Душ...  Новый Арбат, 2010   \n",
       "1  Мебель в комнатах, Мебель на кухне, Ванна, Душ...        Новый Арбат   \n",
       "\n",
       "  Серия дома Высота потолков, м                Лифт Мусоропровод balcony  \\\n",
       "0        NaN                3.0  Пасс (4), Груз (1)           Да     NaN   \n",
       "1        NaN                3.5  Пасс (1), Груз (1)          Нет     NaN   \n",
       "\n",
       "   loggia kids_allowed pets_allowed  \n",
       "0     NaN            1            1  \n",
       "1     NaN            1            0  \n",
       "\n",
       "[2 rows x 24 columns]"
      ]
     },
     "execution_count": 246,
     "metadata": {},
     "output_type": "execute_result"
    }
   ],
   "source": [
    "# 'Можно с детьми/животными'\n",
    "def get_allowed(row) :\n",
    "    result = {}\n",
    "    if type(row['Можно с детьми/животными']) != str : return result\n",
    "    l = row['Можно с детьми/животными'].split(',')\n",
    "    if len(l) == 0 : return result\n",
    "    for al in l :\n",
    "        if al[0] == ' ' : al = al[1:]\n",
    "        result[al] = 1\n",
    "    return result\n",
    "allowed = rent.apply(get_allowed, axis=1, result_type='expand')\n",
    "for c in allowed.columns :\n",
    "    allowed[c] = allowed[c].astype('Int64')\n",
    "allowed = allowed.fillna(0)\n",
    "rent[['kids_allowed','pets_allowed']] = allowed\n",
    "rent.drop('Можно с детьми/животными', axis=1, inplace=True)\n",
    "rent[0:2]"
   ]
  },
  {
   "cell_type": "code",
   "execution_count": null,
   "id": "0405ce07-3621-4ae8-9243-a9ba78c394bf",
   "metadata": {},
   "outputs": [],
   "source": [
    "#################"
   ]
  },
  {
   "cell_type": "markdown",
   "id": "718829b5-aa7d-48a7-adbe-541cf368c9e4",
   "metadata": {},
   "source": [
    "## Extract METRO"
   ]
  },
  {
   "cell_type": "code",
   "execution_count": 140,
   "id": "1f643168",
   "metadata": {},
   "outputs": [
    {
     "data": {
      "text/plain": [
       "0        м. Смоленская \n",
       "1        м. Смоленская \n",
       "2        м. Смоленская \n",
       "3        м. Смоленская \n",
       "4         м. Арбатская \n",
       "              ...      \n",
       "23363      м. Говорово \n",
       "23364      м. Солнцево \n",
       "23365      м. Солнцево \n",
       "23366      м. Солнцево \n",
       "23367      м. Говорово \n",
       "Name: Станция Метро, Length: 19737, dtype: object"
      ]
     },
     "execution_count": 140,
     "metadata": {},
     "output_type": "execute_result"
    }
   ],
   "source": [
    "# 'Метро'\n",
    "rent['Станция Метро'] = rent['Метро'].str.split('(').str[0]\n",
    "rent['Станция Метро']"
   ]
  },
  {
   "cell_type": "code",
   "execution_count": 141,
   "id": "7fbcd29d",
   "metadata": {},
   "outputs": [
    {
     "data": {
      "text/plain": [
       "0         9 мин пешком\n",
       "1         8 мин пешком\n",
       "2         7 мин пешком\n",
       "3         3 мин пешком\n",
       "4         7 мин пешком\n",
       "             ...      \n",
       "23363     8 мин пешком\n",
       "23364     7 мин пешком\n",
       "23365     6 мин пешком\n",
       "23366    11 мин пешком\n",
       "23367    10 мин пешком\n",
       "Name: Расстояние от метро, Length: 19737, dtype: object"
      ]
     },
     "execution_count": 141,
     "metadata": {},
     "output_type": "execute_result"
    }
   ],
   "source": [
    "rent['Расстояние от метро'] = rent['Метро'].str.split('(').str[1]\n",
    "rent['Расстояние от метро'] = rent['Расстояние от метро'].str[:-1]\n",
    "rent['Расстояние от метро']"
   ]
  },
  {
   "cell_type": "code",
   "execution_count": 142,
   "id": "5741b839",
   "metadata": {},
   "outputs": [],
   "source": [
    "rent['Станция Метро']=rent['Станция Метро'].str[3:-1]"
   ]
  },
  {
   "cell_type": "code",
   "execution_count": 143,
   "id": "0958126c",
   "metadata": {},
   "outputs": [
    {
     "data": {
      "text/html": [
       "<div>\n",
       "<style scoped>\n",
       "    .dataframe tbody tr th:only-of-type {\n",
       "        vertical-align: middle;\n",
       "    }\n",
       "\n",
       "    .dataframe tbody tr th {\n",
       "        vertical-align: top;\n",
       "    }\n",
       "\n",
       "    .dataframe thead th {\n",
       "        text-align: right;\n",
       "    }\n",
       "</style>\n",
       "<table border=\"1\" class=\"dataframe\">\n",
       "  <thead>\n",
       "    <tr style=\"text-align: right;\">\n",
       "      <th></th>\n",
       "      <th>Станция Метро</th>\n",
       "      <th>ID  объявления</th>\n",
       "    </tr>\n",
       "  </thead>\n",
       "  <tbody>\n",
       "    <tr>\n",
       "      <th>0</th>\n",
       "      <td>Авиамоторная</td>\n",
       "      <td>107</td>\n",
       "    </tr>\n",
       "    <tr>\n",
       "      <th>1</th>\n",
       "      <td>Автозаводская</td>\n",
       "      <td>57</td>\n",
       "    </tr>\n",
       "    <tr>\n",
       "      <th>2</th>\n",
       "      <td>Академическая</td>\n",
       "      <td>191</td>\n",
       "    </tr>\n",
       "    <tr>\n",
       "      <th>3</th>\n",
       "      <td>Александровский сад</td>\n",
       "      <td>3</td>\n",
       "    </tr>\n",
       "    <tr>\n",
       "      <th>4</th>\n",
       "      <td>Алексеевская</td>\n",
       "      <td>171</td>\n",
       "    </tr>\n",
       "    <tr>\n",
       "      <th>...</th>\n",
       "      <td>...</td>\n",
       "      <td>...</td>\n",
       "    </tr>\n",
       "    <tr>\n",
       "      <th>272</th>\n",
       "      <td>Юго-Западная</td>\n",
       "      <td>138</td>\n",
       "    </tr>\n",
       "    <tr>\n",
       "      <th>273</th>\n",
       "      <td>Южная</td>\n",
       "      <td>73</td>\n",
       "    </tr>\n",
       "    <tr>\n",
       "      <th>274</th>\n",
       "      <td>Ясенево</td>\n",
       "      <td>127</td>\n",
       "    </tr>\n",
       "    <tr>\n",
       "      <th>275</th>\n",
       "      <td>Яхромская</td>\n",
       "      <td>1</td>\n",
       "    </tr>\n",
       "    <tr>\n",
       "      <th>276</th>\n",
       "      <td>улица Народного ополчения</td>\n",
       "      <td>41</td>\n",
       "    </tr>\n",
       "  </tbody>\n",
       "</table>\n",
       "<p>277 rows × 2 columns</p>\n",
       "</div>"
      ],
      "text/plain": [
       "                 Станция Метро  ID  объявления\n",
       "0                 Авиамоторная             107\n",
       "1                Автозаводская              57\n",
       "2                Академическая             191\n",
       "3          Александровский сад               3\n",
       "4                 Алексеевская             171\n",
       "..                         ...             ...\n",
       "272               Юго-Западная             138\n",
       "273                      Южная              73\n",
       "274                    Ясенево             127\n",
       "275                  Яхромская               1\n",
       "276  улица Народного ополчения              41\n",
       "\n",
       "[277 rows x 2 columns]"
      ]
     },
     "execution_count": 143,
     "metadata": {},
     "output_type": "execute_result"
    }
   ],
   "source": [
    "rent.groupby('Станция Метро', as_index=False).agg({'ID  объявления': 'count'})"
   ]
  },
  {
   "cell_type": "code",
   "execution_count": 144,
   "id": "dba2a980",
   "metadata": {},
   "outputs": [
    {
     "ename": "FileNotFoundError",
     "evalue": "[Errno 2] No such file or directory: '../MetroAndDistrict/list_of_moscow_metro_stations.csv'",
     "output_type": "error",
     "traceback": [
      "\u001b[0;31m---------------------------------------------------------------------------\u001b[0m",
      "\u001b[0;31mFileNotFoundError\u001b[0m                         Traceback (most recent call last)",
      "Cell \u001b[0;32mIn[144], line 1\u001b[0m\n\u001b[0;32m----> 1\u001b[0m metroo \u001b[38;5;241m=\u001b[39m metro \u001b[38;5;241m=\u001b[39m \u001b[43mpd\u001b[49m\u001b[38;5;241;43m.\u001b[39;49m\u001b[43mread_csv\u001b[49m\u001b[43m(\u001b[49m\u001b[38;5;124;43m'\u001b[39;49m\u001b[38;5;124;43m../MetroAndDistrict/list_of_moscow_metro_stations.csv\u001b[39;49m\u001b[38;5;124;43m'\u001b[39;49m\u001b[43m)\u001b[49m\n\u001b[1;32m      2\u001b[0m metroo\n",
      "File \u001b[0;32m~/miniforge3/lib/python3.10/site-packages/pandas/util/_decorators.py:211\u001b[0m, in \u001b[0;36mdeprecate_kwarg.<locals>._deprecate_kwarg.<locals>.wrapper\u001b[0;34m(*args, **kwargs)\u001b[0m\n\u001b[1;32m    209\u001b[0m     \u001b[38;5;28;01melse\u001b[39;00m:\n\u001b[1;32m    210\u001b[0m         kwargs[new_arg_name] \u001b[38;5;241m=\u001b[39m new_arg_value\n\u001b[0;32m--> 211\u001b[0m \u001b[38;5;28;01mreturn\u001b[39;00m \u001b[43mfunc\u001b[49m\u001b[43m(\u001b[49m\u001b[38;5;241;43m*\u001b[39;49m\u001b[43margs\u001b[49m\u001b[43m,\u001b[49m\u001b[43m \u001b[49m\u001b[38;5;241;43m*\u001b[39;49m\u001b[38;5;241;43m*\u001b[39;49m\u001b[43mkwargs\u001b[49m\u001b[43m)\u001b[49m\n",
      "File \u001b[0;32m~/miniforge3/lib/python3.10/site-packages/pandas/util/_decorators.py:331\u001b[0m, in \u001b[0;36mdeprecate_nonkeyword_arguments.<locals>.decorate.<locals>.wrapper\u001b[0;34m(*args, **kwargs)\u001b[0m\n\u001b[1;32m    325\u001b[0m \u001b[38;5;28;01mif\u001b[39;00m \u001b[38;5;28mlen\u001b[39m(args) \u001b[38;5;241m>\u001b[39m num_allow_args:\n\u001b[1;32m    326\u001b[0m     warnings\u001b[38;5;241m.\u001b[39mwarn(\n\u001b[1;32m    327\u001b[0m         msg\u001b[38;5;241m.\u001b[39mformat(arguments\u001b[38;5;241m=\u001b[39m_format_argument_list(allow_args)),\n\u001b[1;32m    328\u001b[0m         \u001b[38;5;167;01mFutureWarning\u001b[39;00m,\n\u001b[1;32m    329\u001b[0m         stacklevel\u001b[38;5;241m=\u001b[39mfind_stack_level(),\n\u001b[1;32m    330\u001b[0m     )\n\u001b[0;32m--> 331\u001b[0m \u001b[38;5;28;01mreturn\u001b[39;00m \u001b[43mfunc\u001b[49m\u001b[43m(\u001b[49m\u001b[38;5;241;43m*\u001b[39;49m\u001b[43margs\u001b[49m\u001b[43m,\u001b[49m\u001b[43m \u001b[49m\u001b[38;5;241;43m*\u001b[39;49m\u001b[38;5;241;43m*\u001b[39;49m\u001b[43mkwargs\u001b[49m\u001b[43m)\u001b[49m\n",
      "File \u001b[0;32m~/miniforge3/lib/python3.10/site-packages/pandas/io/parsers/readers.py:950\u001b[0m, in \u001b[0;36mread_csv\u001b[0;34m(filepath_or_buffer, sep, delimiter, header, names, index_col, usecols, squeeze, prefix, mangle_dupe_cols, dtype, engine, converters, true_values, false_values, skipinitialspace, skiprows, skipfooter, nrows, na_values, keep_default_na, na_filter, verbose, skip_blank_lines, parse_dates, infer_datetime_format, keep_date_col, date_parser, dayfirst, cache_dates, iterator, chunksize, compression, thousands, decimal, lineterminator, quotechar, quoting, doublequote, escapechar, comment, encoding, encoding_errors, dialect, error_bad_lines, warn_bad_lines, on_bad_lines, delim_whitespace, low_memory, memory_map, float_precision, storage_options)\u001b[0m\n\u001b[1;32m    935\u001b[0m kwds_defaults \u001b[38;5;241m=\u001b[39m _refine_defaults_read(\n\u001b[1;32m    936\u001b[0m     dialect,\n\u001b[1;32m    937\u001b[0m     delimiter,\n\u001b[0;32m   (...)\u001b[0m\n\u001b[1;32m    946\u001b[0m     defaults\u001b[38;5;241m=\u001b[39m{\u001b[38;5;124m\"\u001b[39m\u001b[38;5;124mdelimiter\u001b[39m\u001b[38;5;124m\"\u001b[39m: \u001b[38;5;124m\"\u001b[39m\u001b[38;5;124m,\u001b[39m\u001b[38;5;124m\"\u001b[39m},\n\u001b[1;32m    947\u001b[0m )\n\u001b[1;32m    948\u001b[0m kwds\u001b[38;5;241m.\u001b[39mupdate(kwds_defaults)\n\u001b[0;32m--> 950\u001b[0m \u001b[38;5;28;01mreturn\u001b[39;00m \u001b[43m_read\u001b[49m\u001b[43m(\u001b[49m\u001b[43mfilepath_or_buffer\u001b[49m\u001b[43m,\u001b[49m\u001b[43m \u001b[49m\u001b[43mkwds\u001b[49m\u001b[43m)\u001b[49m\n",
      "File \u001b[0;32m~/miniforge3/lib/python3.10/site-packages/pandas/io/parsers/readers.py:605\u001b[0m, in \u001b[0;36m_read\u001b[0;34m(filepath_or_buffer, kwds)\u001b[0m\n\u001b[1;32m    602\u001b[0m _validate_names(kwds\u001b[38;5;241m.\u001b[39mget(\u001b[38;5;124m\"\u001b[39m\u001b[38;5;124mnames\u001b[39m\u001b[38;5;124m\"\u001b[39m, \u001b[38;5;28;01mNone\u001b[39;00m))\n\u001b[1;32m    604\u001b[0m \u001b[38;5;66;03m# Create the parser.\u001b[39;00m\n\u001b[0;32m--> 605\u001b[0m parser \u001b[38;5;241m=\u001b[39m \u001b[43mTextFileReader\u001b[49m\u001b[43m(\u001b[49m\u001b[43mfilepath_or_buffer\u001b[49m\u001b[43m,\u001b[49m\u001b[43m \u001b[49m\u001b[38;5;241;43m*\u001b[39;49m\u001b[38;5;241;43m*\u001b[39;49m\u001b[43mkwds\u001b[49m\u001b[43m)\u001b[49m\n\u001b[1;32m    607\u001b[0m \u001b[38;5;28;01mif\u001b[39;00m chunksize \u001b[38;5;129;01mor\u001b[39;00m iterator:\n\u001b[1;32m    608\u001b[0m     \u001b[38;5;28;01mreturn\u001b[39;00m parser\n",
      "File \u001b[0;32m~/miniforge3/lib/python3.10/site-packages/pandas/io/parsers/readers.py:1442\u001b[0m, in \u001b[0;36mTextFileReader.__init__\u001b[0;34m(self, f, engine, **kwds)\u001b[0m\n\u001b[1;32m   1439\u001b[0m     \u001b[38;5;28mself\u001b[39m\u001b[38;5;241m.\u001b[39moptions[\u001b[38;5;124m\"\u001b[39m\u001b[38;5;124mhas_index_names\u001b[39m\u001b[38;5;124m\"\u001b[39m] \u001b[38;5;241m=\u001b[39m kwds[\u001b[38;5;124m\"\u001b[39m\u001b[38;5;124mhas_index_names\u001b[39m\u001b[38;5;124m\"\u001b[39m]\n\u001b[1;32m   1441\u001b[0m \u001b[38;5;28mself\u001b[39m\u001b[38;5;241m.\u001b[39mhandles: IOHandles \u001b[38;5;241m|\u001b[39m \u001b[38;5;28;01mNone\u001b[39;00m \u001b[38;5;241m=\u001b[39m \u001b[38;5;28;01mNone\u001b[39;00m\n\u001b[0;32m-> 1442\u001b[0m \u001b[38;5;28mself\u001b[39m\u001b[38;5;241m.\u001b[39m_engine \u001b[38;5;241m=\u001b[39m \u001b[38;5;28;43mself\u001b[39;49m\u001b[38;5;241;43m.\u001b[39;49m\u001b[43m_make_engine\u001b[49m\u001b[43m(\u001b[49m\u001b[43mf\u001b[49m\u001b[43m,\u001b[49m\u001b[43m \u001b[49m\u001b[38;5;28;43mself\u001b[39;49m\u001b[38;5;241;43m.\u001b[39;49m\u001b[43mengine\u001b[49m\u001b[43m)\u001b[49m\n",
      "File \u001b[0;32m~/miniforge3/lib/python3.10/site-packages/pandas/io/parsers/readers.py:1735\u001b[0m, in \u001b[0;36mTextFileReader._make_engine\u001b[0;34m(self, f, engine)\u001b[0m\n\u001b[1;32m   1733\u001b[0m     \u001b[38;5;28;01mif\u001b[39;00m \u001b[38;5;124m\"\u001b[39m\u001b[38;5;124mb\u001b[39m\u001b[38;5;124m\"\u001b[39m \u001b[38;5;129;01mnot\u001b[39;00m \u001b[38;5;129;01min\u001b[39;00m mode:\n\u001b[1;32m   1734\u001b[0m         mode \u001b[38;5;241m+\u001b[39m\u001b[38;5;241m=\u001b[39m \u001b[38;5;124m\"\u001b[39m\u001b[38;5;124mb\u001b[39m\u001b[38;5;124m\"\u001b[39m\n\u001b[0;32m-> 1735\u001b[0m \u001b[38;5;28mself\u001b[39m\u001b[38;5;241m.\u001b[39mhandles \u001b[38;5;241m=\u001b[39m \u001b[43mget_handle\u001b[49m\u001b[43m(\u001b[49m\n\u001b[1;32m   1736\u001b[0m \u001b[43m    \u001b[49m\u001b[43mf\u001b[49m\u001b[43m,\u001b[49m\n\u001b[1;32m   1737\u001b[0m \u001b[43m    \u001b[49m\u001b[43mmode\u001b[49m\u001b[43m,\u001b[49m\n\u001b[1;32m   1738\u001b[0m \u001b[43m    \u001b[49m\u001b[43mencoding\u001b[49m\u001b[38;5;241;43m=\u001b[39;49m\u001b[38;5;28;43mself\u001b[39;49m\u001b[38;5;241;43m.\u001b[39;49m\u001b[43moptions\u001b[49m\u001b[38;5;241;43m.\u001b[39;49m\u001b[43mget\u001b[49m\u001b[43m(\u001b[49m\u001b[38;5;124;43m\"\u001b[39;49m\u001b[38;5;124;43mencoding\u001b[39;49m\u001b[38;5;124;43m\"\u001b[39;49m\u001b[43m,\u001b[49m\u001b[43m \u001b[49m\u001b[38;5;28;43;01mNone\u001b[39;49;00m\u001b[43m)\u001b[49m\u001b[43m,\u001b[49m\n\u001b[1;32m   1739\u001b[0m \u001b[43m    \u001b[49m\u001b[43mcompression\u001b[49m\u001b[38;5;241;43m=\u001b[39;49m\u001b[38;5;28;43mself\u001b[39;49m\u001b[38;5;241;43m.\u001b[39;49m\u001b[43moptions\u001b[49m\u001b[38;5;241;43m.\u001b[39;49m\u001b[43mget\u001b[49m\u001b[43m(\u001b[49m\u001b[38;5;124;43m\"\u001b[39;49m\u001b[38;5;124;43mcompression\u001b[39;49m\u001b[38;5;124;43m\"\u001b[39;49m\u001b[43m,\u001b[49m\u001b[43m \u001b[49m\u001b[38;5;28;43;01mNone\u001b[39;49;00m\u001b[43m)\u001b[49m\u001b[43m,\u001b[49m\n\u001b[1;32m   1740\u001b[0m \u001b[43m    \u001b[49m\u001b[43mmemory_map\u001b[49m\u001b[38;5;241;43m=\u001b[39;49m\u001b[38;5;28;43mself\u001b[39;49m\u001b[38;5;241;43m.\u001b[39;49m\u001b[43moptions\u001b[49m\u001b[38;5;241;43m.\u001b[39;49m\u001b[43mget\u001b[49m\u001b[43m(\u001b[49m\u001b[38;5;124;43m\"\u001b[39;49m\u001b[38;5;124;43mmemory_map\u001b[39;49m\u001b[38;5;124;43m\"\u001b[39;49m\u001b[43m,\u001b[49m\u001b[43m \u001b[49m\u001b[38;5;28;43;01mFalse\u001b[39;49;00m\u001b[43m)\u001b[49m\u001b[43m,\u001b[49m\n\u001b[1;32m   1741\u001b[0m \u001b[43m    \u001b[49m\u001b[43mis_text\u001b[49m\u001b[38;5;241;43m=\u001b[39;49m\u001b[43mis_text\u001b[49m\u001b[43m,\u001b[49m\n\u001b[1;32m   1742\u001b[0m \u001b[43m    \u001b[49m\u001b[43merrors\u001b[49m\u001b[38;5;241;43m=\u001b[39;49m\u001b[38;5;28;43mself\u001b[39;49m\u001b[38;5;241;43m.\u001b[39;49m\u001b[43moptions\u001b[49m\u001b[38;5;241;43m.\u001b[39;49m\u001b[43mget\u001b[49m\u001b[43m(\u001b[49m\u001b[38;5;124;43m\"\u001b[39;49m\u001b[38;5;124;43mencoding_errors\u001b[39;49m\u001b[38;5;124;43m\"\u001b[39;49m\u001b[43m,\u001b[49m\u001b[43m \u001b[49m\u001b[38;5;124;43m\"\u001b[39;49m\u001b[38;5;124;43mstrict\u001b[39;49m\u001b[38;5;124;43m\"\u001b[39;49m\u001b[43m)\u001b[49m\u001b[43m,\u001b[49m\n\u001b[1;32m   1743\u001b[0m \u001b[43m    \u001b[49m\u001b[43mstorage_options\u001b[49m\u001b[38;5;241;43m=\u001b[39;49m\u001b[38;5;28;43mself\u001b[39;49m\u001b[38;5;241;43m.\u001b[39;49m\u001b[43moptions\u001b[49m\u001b[38;5;241;43m.\u001b[39;49m\u001b[43mget\u001b[49m\u001b[43m(\u001b[49m\u001b[38;5;124;43m\"\u001b[39;49m\u001b[38;5;124;43mstorage_options\u001b[39;49m\u001b[38;5;124;43m\"\u001b[39;49m\u001b[43m,\u001b[49m\u001b[43m \u001b[49m\u001b[38;5;28;43;01mNone\u001b[39;49;00m\u001b[43m)\u001b[49m\u001b[43m,\u001b[49m\n\u001b[1;32m   1744\u001b[0m \u001b[43m\u001b[49m\u001b[43m)\u001b[49m\n\u001b[1;32m   1745\u001b[0m \u001b[38;5;28;01massert\u001b[39;00m \u001b[38;5;28mself\u001b[39m\u001b[38;5;241m.\u001b[39mhandles \u001b[38;5;129;01mis\u001b[39;00m \u001b[38;5;129;01mnot\u001b[39;00m \u001b[38;5;28;01mNone\u001b[39;00m\n\u001b[1;32m   1746\u001b[0m f \u001b[38;5;241m=\u001b[39m \u001b[38;5;28mself\u001b[39m\u001b[38;5;241m.\u001b[39mhandles\u001b[38;5;241m.\u001b[39mhandle\n",
      "File \u001b[0;32m~/miniforge3/lib/python3.10/site-packages/pandas/io/common.py:856\u001b[0m, in \u001b[0;36mget_handle\u001b[0;34m(path_or_buf, mode, encoding, compression, memory_map, is_text, errors, storage_options)\u001b[0m\n\u001b[1;32m    851\u001b[0m \u001b[38;5;28;01melif\u001b[39;00m \u001b[38;5;28misinstance\u001b[39m(handle, \u001b[38;5;28mstr\u001b[39m):\n\u001b[1;32m    852\u001b[0m     \u001b[38;5;66;03m# Check whether the filename is to be opened in binary mode.\u001b[39;00m\n\u001b[1;32m    853\u001b[0m     \u001b[38;5;66;03m# Binary mode does not support 'encoding' and 'newline'.\u001b[39;00m\n\u001b[1;32m    854\u001b[0m     \u001b[38;5;28;01mif\u001b[39;00m ioargs\u001b[38;5;241m.\u001b[39mencoding \u001b[38;5;129;01mand\u001b[39;00m \u001b[38;5;124m\"\u001b[39m\u001b[38;5;124mb\u001b[39m\u001b[38;5;124m\"\u001b[39m \u001b[38;5;129;01mnot\u001b[39;00m \u001b[38;5;129;01min\u001b[39;00m ioargs\u001b[38;5;241m.\u001b[39mmode:\n\u001b[1;32m    855\u001b[0m         \u001b[38;5;66;03m# Encoding\u001b[39;00m\n\u001b[0;32m--> 856\u001b[0m         handle \u001b[38;5;241m=\u001b[39m \u001b[38;5;28;43mopen\u001b[39;49m\u001b[43m(\u001b[49m\n\u001b[1;32m    857\u001b[0m \u001b[43m            \u001b[49m\u001b[43mhandle\u001b[49m\u001b[43m,\u001b[49m\n\u001b[1;32m    858\u001b[0m \u001b[43m            \u001b[49m\u001b[43mioargs\u001b[49m\u001b[38;5;241;43m.\u001b[39;49m\u001b[43mmode\u001b[49m\u001b[43m,\u001b[49m\n\u001b[1;32m    859\u001b[0m \u001b[43m            \u001b[49m\u001b[43mencoding\u001b[49m\u001b[38;5;241;43m=\u001b[39;49m\u001b[43mioargs\u001b[49m\u001b[38;5;241;43m.\u001b[39;49m\u001b[43mencoding\u001b[49m\u001b[43m,\u001b[49m\n\u001b[1;32m    860\u001b[0m \u001b[43m            \u001b[49m\u001b[43merrors\u001b[49m\u001b[38;5;241;43m=\u001b[39;49m\u001b[43merrors\u001b[49m\u001b[43m,\u001b[49m\n\u001b[1;32m    861\u001b[0m \u001b[43m            \u001b[49m\u001b[43mnewline\u001b[49m\u001b[38;5;241;43m=\u001b[39;49m\u001b[38;5;124;43m\"\u001b[39;49m\u001b[38;5;124;43m\"\u001b[39;49m\u001b[43m,\u001b[49m\n\u001b[1;32m    862\u001b[0m \u001b[43m        \u001b[49m\u001b[43m)\u001b[49m\n\u001b[1;32m    863\u001b[0m     \u001b[38;5;28;01melse\u001b[39;00m:\n\u001b[1;32m    864\u001b[0m         \u001b[38;5;66;03m# Binary mode\u001b[39;00m\n\u001b[1;32m    865\u001b[0m         handle \u001b[38;5;241m=\u001b[39m \u001b[38;5;28mopen\u001b[39m(handle, ioargs\u001b[38;5;241m.\u001b[39mmode)\n",
      "\u001b[0;31mFileNotFoundError\u001b[0m: [Errno 2] No such file or directory: '../MetroAndDistrict/list_of_moscow_metro_stations.csv'"
     ]
    }
   ],
   "source": [
    "metroo = metro = pd.read_csv('../MetroAndDistrict/list_of_moscow_metro_stations.csv')\n",
    "metroo"
   ]
  },
  {
   "cell_type": "code",
   "execution_count": null,
   "id": "16418d4f",
   "metadata": {},
   "outputs": [],
   "source": [
    "metro = pd.read_json('../MetroAndDistrict/metro.msk.json')\n",
    "metro"
   ]
  },
  {
   "cell_type": "code",
   "execution_count": null,
   "id": "f82475ec",
   "metadata": {},
   "outputs": [],
   "source": [
    "metro2 = metro['stations'].apply(pd.Series)\n",
    "metro2"
   ]
  },
  {
   "cell_type": "code",
   "execution_count": null,
   "id": "3e15a479",
   "metadata": {},
   "outputs": [],
   "source": [
    "metro_metro = pd.DataFrame()\n",
    "x = 0\n",
    "while x < len(metro2.index):\n",
    "    pd.concat([metro_metro, metro2.loc[x].apply(pd.Series)], ignore_index=True)\n",
    "    x += 1\n",
    "metro_metro    "
   ]
  },
  {
   "cell_type": "code",
   "execution_count": null,
   "id": "6857a381",
   "metadata": {},
   "outputs": [],
   "source": [
    "metro_metro = pd.concat([metro_metro, metro2.loc[14].apply(pd.Series)], ignore_index=True)\n",
    "metro_metro"
   ]
  },
  {
   "cell_type": "code",
   "execution_count": null,
   "id": "93bbad51",
   "metadata": {},
   "outputs": [],
   "source": [
    "metro_metro= metro_metro.dropna(how='all')\n",
    "metro_metro"
   ]
  },
  {
   "cell_type": "code",
   "execution_count": null,
   "id": "d782d61d",
   "metadata": {},
   "outputs": [],
   "source": [
    "metro_metro = metro_metro.drop_duplicates(subset=['name'])\n",
    "metro_metro\n"
   ]
  },
  {
   "cell_type": "code",
   "execution_count": null,
   "id": "0c5a9a85",
   "metadata": {},
   "outputs": [],
   "source": [
    "metro_metro.sort_values(by='name')"
   ]
  },
  {
   "cell_type": "code",
   "execution_count": null,
   "id": "e6832780",
   "metadata": {},
   "outputs": [],
   "source": [
    "rent.groupby('Станция Метро', as_index=False).agg({'ID  объявления': 'count'})"
   ]
  },
  {
   "cell_type": "code",
   "execution_count": null,
   "id": "497cd0c4",
   "metadata": {},
   "outputs": [],
   "source": [
    "metro_metro = metro_metro.rename(columns={'name': 'Станция Метро'})\n",
    "metro_metro[['Станция Метро', 'admArea']].sort_values('Станция Метро')"
   ]
  },
  {
   "cell_type": "code",
   "execution_count": null,
   "id": "984bd62a",
   "metadata": {},
   "outputs": [],
   "source": [
    "#rent['Станция Метро'] = rent['Станция Метро'].str[2:]\n",
    "metros = rent.groupby('Станция Метро', as_index=False).agg({'ID  объявления': 'count'})\n",
    "#metros = metros.rename(columns={'Станция Метро': 'name'})\n",
    "metros\n",
    "#metros.merge(metro_metro[['name', 'admArea']].sort_values('name'), how='left')"
   ]
  },
  {
   "cell_type": "code",
   "execution_count": null,
   "id": "8335ffa4",
   "metadata": {},
   "outputs": [],
   "source": [
    "pd.merge(metros, metro_metro, on='Станция Метро')#.groupby('admArea', as_index=False).count()"
   ]
  },
  {
   "cell_type": "code",
   "execution_count": null,
   "id": "a4d29dff",
   "metadata": {},
   "outputs": [],
   "source": [
    "pd.merge(metros, metro_metro, left_on='Станция Метро', right_on ='Станция Метро', how='left')"
   ]
  },
  {
   "cell_type": "code",
   "execution_count": null,
   "id": "16aa31ba",
   "metadata": {},
   "outputs": [],
   "source": [
    "okrugs = pd.merge(rent, metro_metro, left_on='Станция Метро', right_on ='Станция Метро', how='left').groupby('admArea', as_index=False).agg({'ID  объявления': 'count'})\n",
    "fig, ax = plt.subplots()\n",
    "ax.pie(okrugs['ID  объявления'], labels=okrugs['admArea'])\n",
    "ax.get_legend().remove()"
   ]
  },
  {
   "cell_type": "code",
   "execution_count": null,
   "id": "f1c616cc",
   "metadata": {},
   "outputs": [],
   "source": [
    "rent.head()"
   ]
  },
  {
   "cell_type": "code",
   "execution_count": null,
   "id": "30d90574-ec4c-4015-af88-49039f39e845",
   "metadata": {},
   "outputs": [],
   "source": [
    "# 'Количество комнат'"
   ]
  },
  {
   "cell_type": "code",
   "execution_count": null,
   "id": "f3b4cbef",
   "metadata": {},
   "outputs": [],
   "source": [
    "rent['Число комнат'] = rent['Количество комнат'].str.split(',').str[0]\n",
    "rent"
   ]
  },
  {
   "cell_type": "code",
   "execution_count": null,
   "id": "2ca47de2",
   "metadata": {},
   "outputs": [],
   "source": [
    "rent['Число комнат'] = pd.to_numeric(rent['Число комнат'])"
   ]
  },
  {
   "cell_type": "code",
   "execution_count": null,
   "id": "49952574",
   "metadata": {},
   "outputs": [],
   "source": [
    "rent['Тип комнат'] = rent['Количество комнат'].str.split(',').str[1]\n",
    "rent"
   ]
  },
  {
   "cell_type": "code",
   "execution_count": null,
   "id": "8ccdedf8",
   "metadata": {},
   "outputs": [],
   "source": [
    "rent = pd.merge(rent, metro_metro[['Станция Метро', 'admArea']], on='Станция Метро', how='left')\n",
    "rent\n"
   ]
  },
  {
   "cell_type": "code",
   "execution_count": null,
   "id": "64038b91",
   "metadata": {},
   "outputs": [],
   "source": [
    "rent = rent.rename(columns={'admArea': 'Округ'})\n",
    "rent"
   ]
  },
  {
   "cell_type": "code",
   "execution_count": 153,
   "id": "178cab31-7e28-4487-a960-cbdc2f1c3cc4",
   "metadata": {},
   "outputs": [
    {
     "ename": "KeyError",
     "evalue": "'Площадь, м2'",
     "output_type": "error",
     "traceback": [
      "\u001b[0;31m---------------------------------------------------------------------------\u001b[0m",
      "\u001b[0;31mKeyError\u001b[0m                                  Traceback (most recent call last)",
      "File \u001b[0;32m~/miniforge3/lib/python3.10/site-packages/pandas/core/indexes/base.py:3802\u001b[0m, in \u001b[0;36mIndex.get_loc\u001b[0;34m(self, key, method, tolerance)\u001b[0m\n\u001b[1;32m   3801\u001b[0m \u001b[38;5;28;01mtry\u001b[39;00m:\n\u001b[0;32m-> 3802\u001b[0m     \u001b[38;5;28;01mreturn\u001b[39;00m \u001b[38;5;28;43mself\u001b[39;49m\u001b[38;5;241;43m.\u001b[39;49m\u001b[43m_engine\u001b[49m\u001b[38;5;241;43m.\u001b[39;49m\u001b[43mget_loc\u001b[49m\u001b[43m(\u001b[49m\u001b[43mcasted_key\u001b[49m\u001b[43m)\u001b[49m\n\u001b[1;32m   3803\u001b[0m \u001b[38;5;28;01mexcept\u001b[39;00m \u001b[38;5;167;01mKeyError\u001b[39;00m \u001b[38;5;28;01mas\u001b[39;00m err:\n",
      "File \u001b[0;32m~/miniforge3/lib/python3.10/site-packages/pandas/_libs/index.pyx:138\u001b[0m, in \u001b[0;36mpandas._libs.index.IndexEngine.get_loc\u001b[0;34m()\u001b[0m\n",
      "File \u001b[0;32m~/miniforge3/lib/python3.10/site-packages/pandas/_libs/index.pyx:165\u001b[0m, in \u001b[0;36mpandas._libs.index.IndexEngine.get_loc\u001b[0;34m()\u001b[0m\n",
      "File \u001b[0;32mpandas/_libs/hashtable_class_helper.pxi:5745\u001b[0m, in \u001b[0;36mpandas._libs.hashtable.PyObjectHashTable.get_item\u001b[0;34m()\u001b[0m\n",
      "File \u001b[0;32mpandas/_libs/hashtable_class_helper.pxi:5753\u001b[0m, in \u001b[0;36mpandas._libs.hashtable.PyObjectHashTable.get_item\u001b[0;34m()\u001b[0m\n",
      "\u001b[0;31mKeyError\u001b[0m: 'Площадь, м2'",
      "\nThe above exception was the direct cause of the following exception:\n",
      "\u001b[0;31mKeyError\u001b[0m                                  Traceback (most recent call last)",
      "Cell \u001b[0;32mIn[153], line 2\u001b[0m\n\u001b[1;32m      1\u001b[0m \u001b[38;5;66;03m# 'Площадь, м2'\u001b[39;00m\n\u001b[0;32m----> 2\u001b[0m rent[\u001b[38;5;124m'\u001b[39m\u001b[38;5;124mПлощадь, м2\u001b[39m\u001b[38;5;124m'\u001b[39m] \u001b[38;5;241m=\u001b[39m \u001b[43mrent\u001b[49m\u001b[43m[\u001b[49m\u001b[38;5;124;43m'\u001b[39;49m\u001b[38;5;124;43mПлощадь, м2\u001b[39;49m\u001b[38;5;124;43m'\u001b[39;49m\u001b[43m]\u001b[49m\u001b[38;5;241m.\u001b[39mstr\u001b[38;5;241m.\u001b[39msplit(pat\u001b[38;5;241m=\u001b[39m\u001b[38;5;124m'\u001b[39m\u001b[38;5;124m/\u001b[39m\u001b[38;5;124m'\u001b[39m, n \u001b[38;5;241m=\u001b[39m \u001b[38;5;241m1\u001b[39m, expand \u001b[38;5;241m=\u001b[39m \u001b[38;5;28;01mTrue\u001b[39;00m)[\u001b[38;5;241m0\u001b[39m]\u001b[38;5;241m.\u001b[39mastype(\u001b[38;5;124m'\u001b[39m\u001b[38;5;124mfloat\u001b[39m\u001b[38;5;124m'\u001b[39m)\n\u001b[1;32m      3\u001b[0m rent\u001b[38;5;241m.\u001b[39mrename(columns \u001b[38;5;241m=\u001b[39m {\u001b[38;5;124m'\u001b[39m\u001b[38;5;124mПлощадь, м2\u001b[39m\u001b[38;5;124m'\u001b[39m:\u001b[38;5;124m'\u001b[39m\u001b[38;5;124msquare_total\u001b[39m\u001b[38;5;124m'\u001b[39m}, inplace \u001b[38;5;241m=\u001b[39m \u001b[38;5;28;01mTrue\u001b[39;00m)\n\u001b[1;32m      4\u001b[0m rent\n",
      "File \u001b[0;32m~/miniforge3/lib/python3.10/site-packages/pandas/core/frame.py:3807\u001b[0m, in \u001b[0;36mDataFrame.__getitem__\u001b[0;34m(self, key)\u001b[0m\n\u001b[1;32m   3805\u001b[0m \u001b[38;5;28;01mif\u001b[39;00m \u001b[38;5;28mself\u001b[39m\u001b[38;5;241m.\u001b[39mcolumns\u001b[38;5;241m.\u001b[39mnlevels \u001b[38;5;241m>\u001b[39m \u001b[38;5;241m1\u001b[39m:\n\u001b[1;32m   3806\u001b[0m     \u001b[38;5;28;01mreturn\u001b[39;00m \u001b[38;5;28mself\u001b[39m\u001b[38;5;241m.\u001b[39m_getitem_multilevel(key)\n\u001b[0;32m-> 3807\u001b[0m indexer \u001b[38;5;241m=\u001b[39m \u001b[38;5;28;43mself\u001b[39;49m\u001b[38;5;241;43m.\u001b[39;49m\u001b[43mcolumns\u001b[49m\u001b[38;5;241;43m.\u001b[39;49m\u001b[43mget_loc\u001b[49m\u001b[43m(\u001b[49m\u001b[43mkey\u001b[49m\u001b[43m)\u001b[49m\n\u001b[1;32m   3808\u001b[0m \u001b[38;5;28;01mif\u001b[39;00m is_integer(indexer):\n\u001b[1;32m   3809\u001b[0m     indexer \u001b[38;5;241m=\u001b[39m [indexer]\n",
      "File \u001b[0;32m~/miniforge3/lib/python3.10/site-packages/pandas/core/indexes/base.py:3804\u001b[0m, in \u001b[0;36mIndex.get_loc\u001b[0;34m(self, key, method, tolerance)\u001b[0m\n\u001b[1;32m   3802\u001b[0m     \u001b[38;5;28;01mreturn\u001b[39;00m \u001b[38;5;28mself\u001b[39m\u001b[38;5;241m.\u001b[39m_engine\u001b[38;5;241m.\u001b[39mget_loc(casted_key)\n\u001b[1;32m   3803\u001b[0m \u001b[38;5;28;01mexcept\u001b[39;00m \u001b[38;5;167;01mKeyError\u001b[39;00m \u001b[38;5;28;01mas\u001b[39;00m err:\n\u001b[0;32m-> 3804\u001b[0m     \u001b[38;5;28;01mraise\u001b[39;00m \u001b[38;5;167;01mKeyError\u001b[39;00m(key) \u001b[38;5;28;01mfrom\u001b[39;00m \u001b[38;5;21;01merr\u001b[39;00m\n\u001b[1;32m   3805\u001b[0m \u001b[38;5;28;01mexcept\u001b[39;00m \u001b[38;5;167;01mTypeError\u001b[39;00m:\n\u001b[1;32m   3806\u001b[0m     \u001b[38;5;66;03m# If we have a listlike key, _check_indexing_error will raise\u001b[39;00m\n\u001b[1;32m   3807\u001b[0m     \u001b[38;5;66;03m#  InvalidIndexError. Otherwise we fall through and re-raise\u001b[39;00m\n\u001b[1;32m   3808\u001b[0m     \u001b[38;5;66;03m#  the TypeError.\u001b[39;00m\n\u001b[1;32m   3809\u001b[0m     \u001b[38;5;28mself\u001b[39m\u001b[38;5;241m.\u001b[39m_check_indexing_error(key)\n",
      "\u001b[0;31mKeyError\u001b[0m: 'Площадь, м2'"
     ]
    }
   ],
   "source": []
  },
  {
   "cell_type": "code",
   "execution_count": null,
   "id": "2b4311bd-9d22-4326-9794-43e82ab7246b",
   "metadata": {},
   "outputs": [],
   "source": [
    "# 'Цена'\n"
   ]
  },
  {
   "cell_type": "code",
   "execution_count": null,
   "id": "d3b21228-a0a3-49bc-9edc-55412e8f55c7",
   "metadata": {},
   "outputs": [],
   "source": [
    "# 'Описание'\n"
   ]
  },
  {
   "cell_type": "code",
   "execution_count": null,
   "id": "056a59da-7e00-4c4c-8b74-d098222bcc47",
   "metadata": {},
   "outputs": [],
   "source": [
    "# 'Площадь комнат, м2'\n"
   ]
  },
  {
   "cell_type": "code",
   "execution_count": null,
   "id": "03c988e9-71bd-4702-9f36-73c560af7485",
   "metadata": {},
   "outputs": [],
   "source": [
    "# 'Название ЖК'\n"
   ]
  },
  {
   "cell_type": "code",
   "execution_count": null,
   "id": "9a68b900-6b1c-4f4b-8221-3a31472be64f",
   "metadata": {},
   "outputs": [],
   "source": [
    "# 'Серия дома'\n"
   ]
  },
  {
   "cell_type": "code",
   "execution_count": null,
   "id": "be4d7be2-9603-4d6f-8823-f2e599985b27",
   "metadata": {},
   "outputs": [],
   "source": [
    "# 'Высота потолков, м'\n"
   ]
  },
  {
   "cell_type": "code",
   "execution_count": null,
   "id": "ae6ed31f-8917-4bf5-87cd-17c60c33d101",
   "metadata": {},
   "outputs": [],
   "source": [
    "# 'Мусоропровод'\n"
   ]
  }
 ],
 "metadata": {
  "kernelspec": {
   "display_name": "Python 3 (ipykernel)",
   "language": "python",
   "name": "python3"
  },
  "language_info": {
   "codemirror_mode": {
    "name": "ipython",
    "version": 3
   },
   "file_extension": ".py",
   "mimetype": "text/x-python",
   "name": "python",
   "nbconvert_exporter": "python",
   "pygments_lexer": "ipython3",
   "version": "3.10.9"
  }
 },
 "nbformat": 4,
 "nbformat_minor": 5
}
